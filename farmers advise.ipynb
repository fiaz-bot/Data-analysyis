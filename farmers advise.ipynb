{
 "cells": [
  {
   "cell_type": "code",
   "execution_count": null,
   "id": "1dcdec07-52e4-463b-9afd-10de519d7e9c",
   "metadata": {},
   "outputs": [],
   "source": [
    "import tkinter as tk\n",
    "from tkinter import simpledialog\n",
    "\n",
    "def recommend_crop(temperature, humidity):\n",
    "    # Crops based on temperature and humidity conditions.\n",
    "    crops = []\n",
    "    if temperature > 20 and temperature < 30 and humidity > 60:\n",
    "        crops.append(\"Tea\")\n",
    "    if temperature > 10 and temperature < 20 and humidity > 50:\n",
    "        crops.append(\"Coffee\")\n",
    "    if temperature > 15 and temperature < 25 and humidity < 70:\n",
    "        crops.append(\"Carrots\")\n",
    "    if temperature > 18 and temperature < 27 and humidity < 65:\n",
    "        crops.append(\"Maize\")\n",
    "    \n",
    "    return crops\n",
    "\n",
    "def on_submit():\n",
    "    temp = float(entry_temp.get())\n",
    "    humid = float(entry_humid.get())\n",
    "    crops = recommend_crop(temp, humid)\n",
    "    result_label.config(text=\"Recommended Crops: \" + \", \".join(crops) if crops else \"No suitable crop found.\")\n",
    "\n",
    "# Creating main window\n",
    "root = tk.Tk()\n",
    "root.title(\"Crop Recommendation System\")\n",
    "\n",
    "tk.Label(root, text=\"Enter Temperature (°C):\").pack()\n",
    "entry_temp = tk.Entry(root)\n",
    "entry_temp.pack()\n",
    "\n",
    "tk.Label(root, text=\"Enter Humidity (%):\").pack()\n",
    "entry_humid = tk.Entry(root)\n",
    "entry_humid.pack()\n",
    "\n",
    "submit_button = tk.Button(root, text=\"Submit\", command=on_submit)\n",
    "submit_button.pack()\n",
    "\n",
    "result_label = tk.Label(root, text=\"\")\n",
    "result_label.pack()\n",
    "\n",
    "root.mainloop()\n"
   ]
  },
  {
   "cell_type": "code",
   "execution_count": null,
   "id": "d029b15c-6f38-4b80-8eaf-5d43d9e3b8c8",
   "metadata": {},
   "outputs": [],
   "source": []
  }
 ],
 "metadata": {
  "kernelspec": {
   "display_name": "Python 3 (ipykernel)",
   "language": "python",
   "name": "python3"
  },
  "language_info": {
   "codemirror_mode": {
    "name": "ipython",
    "version": 3
   },
   "file_extension": ".py",
   "mimetype": "text/x-python",
   "name": "python",
   "nbconvert_exporter": "python",
   "pygments_lexer": "ipython3",
   "version": "3.12.7"
  }
 },
 "nbformat": 4,
 "nbformat_minor": 5
}
